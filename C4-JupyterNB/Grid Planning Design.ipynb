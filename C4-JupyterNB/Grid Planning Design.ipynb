{
 "cells": [
  {
   "cell_type": "markdown",
   "metadata": {},
   "source": [
    "# Grid Planning\n",
    "\n",
    "## Python Modules\n",
    "\n",
    "* IPythonCore\n",
    "* PlantUML\n",
    "\n",
    "## UI Logic\n",
    "\n",
    "```\n",
    "  0 1 2 3 4 5 6\n",
    "0 - - - - - - -\n",
    "1 - - - - - - -\n",
    "2 - - - - - - -\n",
    "3 - - - - - - -\n",
    "4 - - - - - - -\n",
    "5 - - - - - - -\n",
    "6 - - - - - - -\n",
    "7 - - - - - - -\n",
    "\n",
    "Enter Y: 3\n",
    "\n",
    "  0 1 2 3 4 5 6\n",
    "0 - - - - - - -\n",
    "1 - - - - - - -\n",
    "2 - - - - - - -\n",
    "3 - - - - - - -\n",
    "4 - - - - - - -\n",
    "5 - - - - - - -\n",
    "6 - - - - - - -\n",
    "7 - - - X - - -\n",
    "\n",
    "Enter Y: 6\n",
    "\n",
    "  0 1 2 3 4 5 6\n",
    "0 - - - - - - -\n",
    "1 - - - - - - -\n",
    "2 - - - - - - -\n",
    "3 - - - - - - -\n",
    "4 - - - - - - -\n",
    "5 - - - - - - -\n",
    "6 - - - - - - -\n",
    "7 - - - X - - O\n",
    "```\n",
    "\n",
    "## xUnit Testing Logic\n",
    "\n",
    "The xUnit Testing of Grid could compare if the expected grid is equal to the actual grid. The xUnit Testing could include if the player move made the grid different to the last stage of grid.\n",
    "\n",
    "Pseudo Code:\n",
    "```\n",
    "\n",
    "```"
   ]
  }
 ],
 "metadata": {
  "kernelspec": {
   "display_name": "Python 3",
   "language": "python",
   "name": "python3"
  },
  "language_info": {
   "codemirror_mode": {
    "name": "ipython",
    "version": 3
   },
   "file_extension": ".py",
   "mimetype": "text/x-python",
   "name": "python",
   "nbconvert_exporter": "python",
   "pygments_lexer": "ipython3",
   "version": "3.7.9"
  }
 },
 "nbformat": 4,
 "nbformat_minor": 4
}
