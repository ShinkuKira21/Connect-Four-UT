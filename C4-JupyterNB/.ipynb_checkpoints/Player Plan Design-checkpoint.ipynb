{
 "cells": [
  {
   "cell_type": "markdown",
   "metadata": {},
   "source": [
    "# Player Planning\n",
    "\n",
    "## Python Modules\n",
    "\n",
    "* IPythonCore\n",
    "\n",
    "## UI Logic\n",
    "\n",
    "```\n",
    "Enter Player 1's Nick: James\n",
    "Enter Player 2's Nick: Emily\n",
    "\n",
    "Player 1 - Choose starter icon (X/O): O\n",
    "```\n",
    "\n",
    "## xUnit Testing Logic\n",
    "\n",
    "```\n",
    "SetPlayerName(string p1Nick, string p2Nick)\n",
    "# selector to choose the playerIndex\n",
    "names = GetPlayerName(int playerIndex)\n",
    "\n",
    "# p1Icon is defaulted to X\n",
    "SetPlayerIcon(char p1Icon = 'X')\n",
    "\n",
    "# Internal logic will determine player two's piece\n",
    "icons = GetPlayerIcon(int playerIndex)\n",
    "```"
   ]
  },
  {
   "cell_type": "code",
   "execution_count": 2,
   "metadata": {
    "scrolled": true
   },
   "outputs": [
    {
     "data": {
      "text/html": [
       "<style>\n",
       "#code {\n",
       "    color: green;\n",
       "}\n",
       "</style>\n",
       "<h1>UI Example</h1><br><code id='code'>Enter player 1's Nick: James</code><br><code id='code'>Enter player 2's Nick: Emily</code><br><code id='code'>Player 1 - Choose starter icon (X/O): O</code><br><br><code id='code'>James is equal to GetPlayerName(0)? Passed<br>Emily is equal to GetPlayerName(1)? Passed<br>O is equal to GetPlayerIcon(0)? Passed<br>X is equal to GetPlayerIcon(1)? Passed</code>"
      ],
      "text/plain": [
       "<IPython.core.display.HTML object>"
      ]
     },
     "execution_count": 2,
     "metadata": {},
     "output_type": "execute_result"
    }
   ],
   "source": [
    "from IPython.core.display import HTML\n",
    "\n",
    "p = Players()\n",
    "\n",
    "syntax = \"\"\"<style>\n",
    "#code {\n",
    "    color: green;\n",
    "}\n",
    "</style>\n",
    "\"\"\"\n",
    "\n",
    "customCode = \"<h1>UI Example</h1><br>\"\n",
    "customCode += \"<code id='code'>Enter player 1's Nick: James</code><br>\"\n",
    "customCode += \"<code id='code'>Enter player 2's Nick: Emily</code><br>\"\n",
    "customCode += \"<code id='code'>Player 1 - Choose starter icon (X/O): O</code><br>\"\n",
    "customCode += \"<br>\"\n",
    "\n",
    "p.SetPlayerName(\"James\", \"Emily\")\n",
    "p.SetPlayerIcon('O')\n",
    "\n",
    "customCode += \"<code id='code'>James is equal to GetPlayerName(0)? \"\n",
    "\n",
    "if(\"James\" == p.GetPlayerName(0)) :\n",
    "    customCode += \"Passed\"\n",
    "\n",
    "else:\n",
    "    customCode += \"Failed\"\n",
    "\n",
    "customCode += \"<br>Emily is equal to GetPlayerName(1)? \"\n",
    "\n",
    "if(\"Emily\" == p.GetPlayerName(1)) :\n",
    "    customCode += \"Passed\"\n",
    "\n",
    "else:\n",
    "    customCode += \"Failed\"\n",
    "\n",
    "customCode += \"<br>O is equal to GetPlayerIcon(0)? \"\n",
    "\n",
    "if('O' == p.GetPlayerIcon(0)) :\n",
    "    customCode += \"Passed\"\n",
    "\n",
    "else:\n",
    "    customCode += \"Failed\"\n",
    "\n",
    "\n",
    "customCode += \"<br>X is equal to GetPlayerIcon(1)? \"\n",
    "\n",
    "if('X' == p.GetPlayerIcon(1)) :\n",
    "    customCode += \"Passed\"\n",
    "\n",
    "else:\n",
    "    customCode += \"Failed\"\n",
    "\n",
    "customCode += \"</code>\"\n",
    "\n",
    "HTML(syntax + customCode)"
   ]
  },
  {
   "cell_type": "code",
   "execution_count": 1,
   "metadata": {},
   "outputs": [],
   "source": [
    "class Players :\n",
    "    def __init__(self) :\n",
    "        self.nick = [\"\", \"\"]\n",
    "        self.p1Icon = None\n",
    "        \n",
    "    def SetPlayerName(self, p1Nick, p2Nick):\n",
    "        self.nick[0] = p1Nick\n",
    "        self.nick[1] = p2Nick\n",
    "\n",
    "    def GetPlayerName(self, pIndex) :\n",
    "        return self.nick[pIndex]\n",
    "\n",
    "    def SetPlayerIcon(self, pIcon) :\n",
    "        self.p1Icon = pIcon\n",
    "\n",
    "    def GetPlayerIcon(self, pIndex) :\n",
    "        if (pIndex == 0) :\n",
    "            return self.p1Icon\n",
    "        else :\n",
    "            if(self.p1Icon == 'X') :\n",
    "                return 'O'\n",
    "            else :\n",
    "                return 'X'"
   ]
  },
  {
   "cell_type": "code",
   "execution_count": null,
   "metadata": {},
   "outputs": [],
   "source": []
  }
 ],
 "metadata": {
  "kernelspec": {
   "display_name": "Python 3",
   "language": "python",
   "name": "python3"
  },
  "language_info": {
   "codemirror_mode": {
    "name": "ipython",
    "version": 3
   },
   "file_extension": ".py",
   "mimetype": "text/x-python",
   "name": "python",
   "nbconvert_exporter": "python",
   "pygments_lexer": "ipython3",
   "version": "3.7.9"
  }
 },
 "nbformat": 4,
 "nbformat_minor": 5
}
