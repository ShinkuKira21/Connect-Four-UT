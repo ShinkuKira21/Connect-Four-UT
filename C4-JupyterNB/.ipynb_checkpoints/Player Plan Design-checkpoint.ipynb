{
 "cells": [
  {
   "cell_type": "markdown",
   "id": "floppy-afghanistan",
   "metadata": {},
   "source": [
    "# Player Planning\n",
    "\n",
    "## Python Modules\n",
    "\n",
    "* IPythonCore\n",
    "\n",
    "## UI Logic\n",
    "\n",
    "```\n",
    "Enter Player 1's Nick: James\n",
    "Enter Player 2's Nick: Emily\n",
    "\n",
    "Player 1 - Choose starter icon (X/O): O\n",
    "```\n",
    "\n",
    "## xUnit Testing Logic\n",
    "\n",
    "```\n",
    "SetPlayerName(string p1Nick, string p2Nick)\n",
    "# selector to choose the playerIndex\n",
    "GetPlayerName(int playerIndex)\n",
    "\n",
    "# p1Icon is defaulted to X\n",
    "SetPlayerIcon(char p1Icon = 'X')\n",
    "\n",
    "# Internal logic will determine player two's piece\n",
    "GetPlayerIcon(int playerIndex)\n",
    "```"
   ]
  },
  {
   "cell_type": "code",
   "execution_count": 80,
   "id": "caring-leadership",
   "metadata": {},
   "outputs": [
    {
     "ename": "NameError",
     "evalue": "name 'SetPlayer' is not defined",
     "output_type": "error",
     "traceback": [
      "\u001b[0;31m---------------------------------------------------------------------------\u001b[0m",
      "\u001b[0;31mNameError\u001b[0m                                 Traceback (most recent call last)",
      "\u001b[0;32m<ipython-input-80-a7c584b55288>\u001b[0m in \u001b[0;36m<module>\u001b[0;34m\u001b[0m\n\u001b[1;32m     15\u001b[0m \u001b[0;34m\u001b[0m\u001b[0m\n\u001b[1;32m     16\u001b[0m \u001b[0mSetPlayerName\u001b[0m\u001b[0;34m(\u001b[0m\u001b[0;34m\"James\"\u001b[0m\u001b[0;34m,\u001b[0m \u001b[0;34m\"Emily\"\u001b[0m\u001b[0;34m)\u001b[0m\u001b[0;34m\u001b[0m\u001b[0;34m\u001b[0m\u001b[0m\n\u001b[0;32m---> 17\u001b[0;31m \u001b[0mSetPlayer\u001b[0m\u001b[0;34m\u001b[0m\u001b[0;34m\u001b[0m\u001b[0m\n\u001b[0m\u001b[1;32m     18\u001b[0m \u001b[0;34m\u001b[0m\u001b[0m\n\u001b[1;32m     19\u001b[0m \u001b[0mHTML\u001b[0m\u001b[0;34m(\u001b[0m\u001b[0msyntax\u001b[0m \u001b[0;34m+\u001b[0m \u001b[0mcustomCode\u001b[0m\u001b[0;34m)\u001b[0m\u001b[0;34m\u001b[0m\u001b[0;34m\u001b[0m\u001b[0m\n",
      "\u001b[0;31mNameError\u001b[0m: name 'SetPlayer' is not defined"
     ]
    }
   ],
   "source": [
    "from IPython.core.display import HTML\n",
    "\n",
    "syntax = \"\"\"<style>\n",
    "#code {\n",
    "    color: green;\n",
    "}\n",
    "</style>\n",
    "\"\"\"\n",
    "\n",
    "customCode = \"<h1>UI Example</h1><br>\"\n",
    "customCode += \"<code id='code'>Enter player 1's Nick: James</code><br>\"\n",
    "customCode += \"<code id='code'>Enter player 2's Nick: Emily</code><br>\"\n",
    "customCode += \"<code id='code'>Player 1 - Choose starter icon (X/O): O</code><br>\"\n",
    "customCode += \"<br>\"\n",
    "\n",
    "SetPlayerName(\"James\", \"Emily\")\n",
    "SetPlayer\n",
    "\n",
    "HTML(syntax + customCode)"
   ]
  },
  {
   "cell_type": "code",
   "execution_count": 79,
   "id": "measured-poland",
   "metadata": {},
   "outputs": [],
   "source": [
    "nick = [\"\", \"\"]\n",
    "p1Icon = None\n",
    "\n",
    "def SetPlayerName(p1Nick, p2Nick):\n",
    "    nick[0] = p1Nick\n",
    "    nick[1] = p2Nick\n",
    "    \n",
    "def GetPlayerName(pIndex) :\n",
    "    return nick[pIndex]\n",
    "\n",
    "def SetPlayerIcon(pIcon) :\n",
    "    p1Icon = pIcon\n",
    "    \n",
    "def GetPlayerIcon(pIndex) :\n",
    "    if(pIndex == 0) :\n",
    "        return pIndex\n",
    "    else :\n",
    "        if(pIndex == 'X') :\n",
    "            return 'O'\n",
    "        else :\n",
    "            return 'X'"
   ]
  },
  {
   "cell_type": "code",
   "execution_count": null,
   "id": "personal-discipline",
   "metadata": {},
   "outputs": [],
   "source": []
  }
 ],
 "metadata": {
  "kernelspec": {
   "display_name": "Python 3",
   "language": "python",
   "name": "python3"
  },
  "language_info": {
   "codemirror_mode": {
    "name": "ipython",
    "version": 3
   },
   "file_extension": ".py",
   "mimetype": "text/x-python",
   "name": "python",
   "nbconvert_exporter": "python",
   "pygments_lexer": "ipython3",
   "version": "3.8.5"
  }
 },
 "nbformat": 4,
 "nbformat_minor": 5
}
