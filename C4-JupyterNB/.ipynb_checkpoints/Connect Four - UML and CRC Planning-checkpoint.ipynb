{
 "cells": [
  {
   "cell_type": "code",
   "execution_count": 3,
   "metadata": {},
   "outputs": [],
   "source": [
    "import iplantuml"
   ]
  },
  {
   "cell_type": "code",
   "execution_count": 57,
   "metadata": {
    "scrolled": true
   },
   "outputs": [
    {
     "data": {
      "image/svg+xml": [
       "<svg contentScriptType=\"application/ecmascript\" contentStyleType=\"text/css\" height=\"230px\" preserveAspectRatio=\"none\" style=\"width:619px;height:230px;\" version=\"1.1\" viewBox=\"0 0 619 230\" width=\"619px\" xmlns=\"http://www.w3.org/2000/svg\" xmlns:xlink=\"http://www.w3.org/1999/xlink\" zoomAndPan=\"magnify\"><defs><filter height=\"300%\" id=\"f256k5tf2codx\" width=\"300%\" x=\"-1\" y=\"-1\"><feGaussianBlur result=\"blurOut\" stdDeviation=\"2.0\"/><feColorMatrix in=\"blurOut\" result=\"blurOut2\" type=\"matrix\" values=\"0 0 0 0 0 0 0 0 0 0 0 0 0 0 0 0 0 0 .4 0\"/><feOffset dx=\"4.0\" dy=\"4.0\" in=\"blurOut2\" result=\"blurOut3\"/><feBlend in=\"SourceGraphic\" in2=\"blurOut3\" mode=\"normal\"/></filter></defs><g><!--MD5=[511f332b135bf54771edaeeaf366248f]\n",
       "class Players--><rect codeLine=\"1\" fill=\"#FEFECE\" filter=\"url(#f256k5tf2codx)\" height=\"163.2422\" id=\"Players\" style=\"stroke:#A80036;stroke-width:1.5;\" width=\"270\" x=\"9\" y=\"53.5659\"/><ellipse cx=\"118.25\" cy=\"69.5659\" fill=\"#ADD1B2\" rx=\"11\" ry=\"11\" style=\"stroke:#A80036;stroke-width:1.0;\"/><path d=\"M120.5938,65.2378 C119.6563,64.8003 119.0625,64.6597 118.1875,64.6597 C115.5625,64.6597 113.5625,66.7378 113.5625,69.4565 L113.5625,70.5815 C113.5625,73.1597 115.6719,75.0503 118.5625,75.0503 C119.7813,75.0503 120.9375,74.7534 121.6875,74.2065 C122.2656,73.8003 122.5938,73.3472 122.5938,72.9565 C122.5938,72.5034 122.2031,72.1128 121.7344,72.1128 C121.5156,72.1128 121.3125,72.1909 121.125,72.3784 C120.6719,72.8628 120.6719,72.8628 120.4844,72.9565 C120.0625,73.2222 119.375,73.3472 118.6094,73.3472 C116.5625,73.3472 115.2656,72.2534 115.2656,70.5503 L115.2656,69.4565 C115.2656,67.6753 116.5156,66.3628 118.25,66.3628 C118.8281,66.3628 119.4375,66.519 119.9063,66.769 C120.3906,67.0503 120.5625,67.269 120.6563,67.6753 C120.7188,68.0815 120.75,68.2065 120.8906,68.3315 C121.0313,68.4722 121.2656,68.5815 121.4844,68.5815 C121.75,68.5815 122.0156,68.4409 122.1875,68.2222 C122.2969,68.0659 122.3281,67.8784 122.3281,67.4565 L122.3281,66.0347 C122.3281,65.5972 122.3125,65.4722 122.2188,65.3159 C122.0625,65.0503 121.7813,64.9097 121.4844,64.9097 C121.1875,64.9097 120.9844,65.0034 120.7656,65.3159 L120.5938,65.2378 Z \" fill=\"#000000\"/><text fill=\"#000000\" font-family=\"sans-serif\" font-size=\"12\" lengthAdjust=\"spacing\" textLength=\"43\" x=\"138.75\" y=\"73.7202\">Players</text><line style=\"stroke:#A80036;stroke-width:1.5;\" x1=\"10\" x2=\"278\" y1=\"85.5659\" y2=\"85.5659\"/><polygon fill=\"none\" points=\"20,91.5659,24,95.5659,20,99.5659,16,95.5659\" style=\"stroke:#B38D22;stroke-width:1.0;\"/><text fill=\"#000000\" font-family=\"sans-serif\" font-size=\"11\" lengthAdjust=\"spacing\" textLength=\"119\" x=\"29\" y=\"99.7764\">string[] playerNames</text><polygon fill=\"none\" points=\"20,104.3706,24,108.3706,20,112.3706,16,108.3706\" style=\"stroke:#B38D22;stroke-width:1.0;\"/><text fill=\"#000000\" font-family=\"sans-serif\" font-size=\"11\" lengthAdjust=\"spacing\" textLength=\"65\" x=\"29\" y=\"112.5811\">char p1Icon</text><line style=\"stroke:#A80036;stroke-width:1.5;\" x1=\"10\" x2=\"278\" y1=\"119.1753\" y2=\"119.1753\"/><ellipse cx=\"20\" cy=\"130.1753\" fill=\"#84BE84\" rx=\"3\" ry=\"3\" style=\"stroke:#038048;stroke-width:1.0;\"/><text fill=\"#000000\" font-family=\"sans-serif\" font-size=\"11\" lengthAdjust=\"spacing\" textLength=\"49\" x=\"29\" y=\"133.3857\">Players()</text><ellipse cx=\"20\" cy=\"142.98\" fill=\"#84BE84\" rx=\"3\" ry=\"3\" style=\"stroke:#038048;stroke-width:1.0;\"/><text fill=\"#000000\" font-family=\"sans-serif\" font-size=\"11\" lengthAdjust=\"spacing\" textLength=\"244\" x=\"29\" y=\"146.1904\">SetPlayerName(string playerName, int sel)</text><ellipse cx=\"20\" cy=\"155.7847\" fill=\"#84BE84\" rx=\"3\" ry=\"3\" style=\"stroke:#038048;stroke-width:1.0;\"/><text fill=\"#000000\" font-family=\"sans-serif\" font-size=\"11\" lengthAdjust=\"spacing\" textLength=\"151\" x=\"29\" y=\"158.9951\">SetPlayerIcon(char p1Icon)</text><ellipse cx=\"20\" cy=\"168.5894\" fill=\"#84BE84\" rx=\"3\" ry=\"3\" style=\"stroke:#038048;stroke-width:1.0;\"/><text fill=\"#000000\" font-family=\"sans-serif\" font-size=\"11\" lengthAdjust=\"spacing\" textLength=\"133\" x=\"29\" y=\"171.7998\">GetPlayerName(int sel)</text><ellipse cx=\"20\" cy=\"181.394\" fill=\"#84BE84\" rx=\"3\" ry=\"3\" style=\"stroke:#038048;stroke-width:1.0;\"/><text fill=\"#000000\" font-family=\"sans-serif\" font-size=\"11\" lengthAdjust=\"spacing\" textLength=\"122\" x=\"29\" y=\"184.6045\">GetPlayerIcon(int sel)</text><text fill=\"#000000\" font-family=\"sans-serif\" font-size=\"11\" lengthAdjust=\"spacing\" textLength=\"0\" x=\"33\" y=\"197.4092\"/><rect fill=\"#F24D5C\" height=\"6\" style=\"stroke:#C82930;stroke-width:1.0;\" width=\"6\" x=\"17\" y=\"204.0034\"/><text fill=\"#000000\" font-family=\"sans-serif\" font-size=\"11\" lengthAdjust=\"spacing\" textLength=\"152\" x=\"29\" y=\"210.2139\">CheckPlayerIcon(char icon)</text><!--MD5=[1f24f7b92150e3316908f7910ce81742]\n",
       "class Grid--><rect codeLine=\"15\" fill=\"#FEFECE\" filter=\"url(#f256k5tf2codx)\" height=\"73.6094\" id=\"Grid\" style=\"stroke:#A80036;stroke-width:1.5;\" width=\"113\" x=\"333.5\" y=\"98.0659\"/><ellipse cx=\"373.7\" cy=\"114.0659\" fill=\"#ADD1B2\" rx=\"11\" ry=\"11\" style=\"stroke:#A80036;stroke-width:1.0;\"/><path d=\"M376.0438,109.7378 C375.1063,109.3003 374.5125,109.1597 373.6375,109.1597 C371.0125,109.1597 369.0125,111.2378 369.0125,113.9565 L369.0125,115.0815 C369.0125,117.6597 371.1219,119.5503 374.0125,119.5503 C375.2313,119.5503 376.3875,119.2534 377.1375,118.7065 C377.7156,118.3003 378.0438,117.8472 378.0438,117.4565 C378.0438,117.0034 377.6531,116.6128 377.1844,116.6128 C376.9656,116.6128 376.7625,116.6909 376.575,116.8784 C376.1219,117.3628 376.1219,117.3628 375.9344,117.4565 C375.5125,117.7222 374.825,117.8472 374.0594,117.8472 C372.0125,117.8472 370.7156,116.7534 370.7156,115.0503 L370.7156,113.9565 C370.7156,112.1753 371.9656,110.8628 373.7,110.8628 C374.2781,110.8628 374.8875,111.019 375.3563,111.269 C375.8406,111.5503 376.0125,111.769 376.1063,112.1753 C376.1688,112.5815 376.2,112.7065 376.3406,112.8315 C376.4813,112.9722 376.7156,113.0815 376.9344,113.0815 C377.2,113.0815 377.4656,112.9409 377.6375,112.7222 C377.7469,112.5659 377.7781,112.3784 377.7781,111.9565 L377.7781,110.5347 C377.7781,110.0972 377.7625,109.9722 377.6688,109.8159 C377.5125,109.5503 377.2313,109.4097 376.9344,109.4097 C376.6375,109.4097 376.4344,109.5034 376.2156,109.8159 L376.0438,109.7378 Z \" fill=\"#000000\"/><text fill=\"#000000\" font-family=\"sans-serif\" font-size=\"12\" lengthAdjust=\"spacing\" textLength=\"25\" x=\"393.3\" y=\"118.2202\">Grid</text><line style=\"stroke:#A80036;stroke-width:1.5;\" x1=\"334.5\" x2=\"445.5\" y1=\"130.0659\" y2=\"130.0659\"/><polygon fill=\"none\" points=\"344.5,136.0659,348.5,140.0659,344.5,144.0659,340.5,140.0659\" style=\"stroke:#B38D22;stroke-width:1.0;\"/><text fill=\"#000000\" font-family=\"sans-serif\" font-size=\"11\" lengthAdjust=\"spacing\" textLength=\"87\" x=\"353.5\" y=\"144.2764\">Players players</text><polygon fill=\"none\" points=\"344.5,148.8706,348.5,152.8706,344.5,156.8706,340.5,152.8706\" style=\"stroke:#B38D22;stroke-width:1.0;\"/><text fill=\"#000000\" font-family=\"sans-serif\" font-size=\"11\" lengthAdjust=\"spacing\" textLength=\"65\" x=\"353.5\" y=\"157.0811\">char[][] grid</text><line style=\"stroke:#A80036;stroke-width:1.5;\" x1=\"334.5\" x2=\"445.5\" y1=\"163.6753\" y2=\"163.6753\"/><!--MD5=[48fd9ba0f431717e30ffacaf4852bc92]\n",
       "class GameStatus--><rect codeLine=\"22\" fill=\"#FEFECE\" filter=\"url(#f256k5tf2codx)\" height=\"48\" id=\"GameStatus\" style=\"stroke:#A80036;stroke-width:1.5;\" width=\"104\" x=\"501\" y=\"111.0659\"/><ellipse cx=\"516\" cy=\"127.0659\" fill=\"#ADD1B2\" rx=\"11\" ry=\"11\" style=\"stroke:#A80036;stroke-width:1.0;\"/><path d=\"M518.3438,122.7378 C517.4063,122.3003 516.8125,122.1597 515.9375,122.1597 C513.3125,122.1597 511.3125,124.2378 511.3125,126.9565 L511.3125,128.0815 C511.3125,130.6597 513.4219,132.5503 516.3125,132.5503 C517.5313,132.5503 518.6875,132.2534 519.4375,131.7065 C520.0156,131.3003 520.3438,130.8472 520.3438,130.4565 C520.3438,130.0034 519.9531,129.6128 519.4844,129.6128 C519.2656,129.6128 519.0625,129.6909 518.875,129.8784 C518.4219,130.3628 518.4219,130.3628 518.2344,130.4565 C517.8125,130.7222 517.125,130.8472 516.3594,130.8472 C514.3125,130.8472 513.0156,129.7534 513.0156,128.0503 L513.0156,126.9565 C513.0156,125.1753 514.2656,123.8628 516,123.8628 C516.5781,123.8628 517.1875,124.019 517.6563,124.269 C518.1406,124.5503 518.3125,124.769 518.4063,125.1753 C518.4688,125.5815 518.5,125.7065 518.6406,125.8315 C518.7813,125.9722 519.0156,126.0815 519.2344,126.0815 C519.5,126.0815 519.7656,125.9409 519.9375,125.7222 C520.0469,125.5659 520.0781,125.3784 520.0781,124.9565 L520.0781,123.5347 C520.0781,123.0972 520.0625,122.9722 519.9688,122.8159 C519.8125,122.5503 519.5313,122.4097 519.2344,122.4097 C518.9375,122.4097 518.7344,122.5034 518.5156,122.8159 L518.3438,122.7378 Z \" fill=\"#000000\"/><text fill=\"#000000\" font-family=\"sans-serif\" font-size=\"12\" lengthAdjust=\"spacing\" textLength=\"72\" x=\"530\" y=\"131.2202\">GameStatus</text><line style=\"stroke:#A80036;stroke-width:1.5;\" x1=\"502\" x2=\"604\" y1=\"143.0659\" y2=\"143.0659\"/><line style=\"stroke:#A80036;stroke-width:1.5;\" x1=\"502\" x2=\"604\" y1=\"151.0659\" y2=\"151.0659\"/><!--MD5=[e366e25120c54c81e05bc2c2af442d59]\n",
       "link Players to Grid--><path codeLine=\"24\" d=\"M279.234,135.0659 C296.386,135.0659 313.218,135.0659 328.378,135.0659 \" fill=\"none\" id=\"Players-to-Grid\" style=\"stroke:#A80036;stroke-width:1.0;\"/><polygon fill=\"#A80036\" points=\"333.453,135.0659,324.453,131.0659,328.453,135.0659,324.453,139.0659,333.453,135.0659\" style=\"stroke:#A80036;stroke-width:1.0;\"/><text fill=\"#000000\" font-family=\"sans-serif\" font-size=\"13\" lengthAdjust=\"spacing\" textLength=\"18\" x=\"297.25\" y=\"128.1328\">ref</text><!--MD5=[21287cb34a358442f2efcdf535177eb2]\n",
       "link Players to GameStatus--><path codeLine=\"25\" d=\"M259.027,53.4339 C302.039,31.8219 352.096,16.8749 400,26.5659 C430.259,32.6879 438.014,36.8979 464,53.5659 C487.445,68.6039 510.542,90.0029 527.329,107.0999 \" fill=\"none\" id=\"Players-to-GameStatus\" style=\"stroke:#A80036;stroke-width:1.0;\"/><polygon fill=\"#A80036\" points=\"531.027,110.9009,527.6162,101.6615,527.5397,107.3178,521.8833,107.2413,531.027,110.9009\" style=\"stroke:#A80036;stroke-width:1.0;\"/><text fill=\"#000000\" font-family=\"sans-serif\" font-size=\"13\" lengthAdjust=\"spacing\" textLength=\"18\" x=\"381\" y=\"19.6328\">ref</text><!--MD5=[b269aee7fd94a9983d43bd4186cdeb10]\n",
       "link Grid to GameStatus--><path codeLine=\"26\" d=\"M446.552,135.0659 C462.413,135.0659 479.67,135.0659 495.581,135.0659 \" fill=\"none\" id=\"Grid-to-GameStatus\" style=\"stroke:#A80036;stroke-width:1.0;\"/><polygon fill=\"#A80036\" points=\"500.922,135.0659,491.922,131.0659,495.922,135.0659,491.922,139.0659,500.922,135.0659\" style=\"stroke:#A80036;stroke-width:1.0;\"/><text fill=\"#000000\" font-family=\"sans-serif\" font-size=\"13\" lengthAdjust=\"spacing\" textLength=\"18\" x=\"464.75\" y=\"128.1328\">ref</text><!--MD5=[23203fa47c494e9e5c4e1bb3e0116401]\n",
       "@startuml\n",
       "class Players \n",
       "    {\n",
       "        # string[] playerNames\n",
       "        # char p1Icon\n",
       "        \n",
       "        + Players()\n",
       "        + SetPlayerName(string playerName, int sel)\n",
       "        + SetPlayerIcon(char p1Icon)\n",
       "        + GetPlayerName(int sel)\n",
       "        + GetPlayerIcon(int sel)\n",
       "        \n",
       "        - CheckPlayerIcon(char icon)\n",
       "    }\n",
       "         \n",
       "    class Grid\n",
       "    {\n",
       "        # Players players\n",
       "        # char[][] grid\n",
       "        \n",
       "    }\n",
       "    \n",
       "    class GameStatus\n",
       "    \n",
       "    Players -> Grid : ref\n",
       "    Players -> GameStatus : ref\n",
       "    Grid -> GameStatus : ref\n",
       "@enduml\n",
       "\n",
       "PlantUML version 1.2021.2beta9(Unknown compile time)\n",
       "(GPL source distribution)\n",
       "Java Runtime: Java(TM) SE Runtime Environment\n",
       "JVM: Java HotSpot(TM) 64-Bit Server VM\n",
       "Default Encoding: UTF-8\n",
       "Language: en\n",
       "Country: US\n",
       "--></g></svg>"
      ],
      "text/plain": [
       "<IPython.core.display.SVG object>"
      ]
     },
     "execution_count": 57,
     "metadata": {},
     "output_type": "execute_result"
    }
   ],
   "source": [
    "%%plantuml \n",
    "\n",
    "@startuml\n",
    "    class Players \n",
    "    {\n",
    "        # string[] playerNames\n",
    "        # char p1Icon\n",
    "        \n",
    "        + Players()\n",
    "        + SetPlayerName(string playerName, int sel)\n",
    "        + SetPlayerIcon(char p1Icon)\n",
    "        + GetPlayerName(int sel)\n",
    "        + GetPlayerIcon(int sel)\n",
    "        \n",
    "        - CheckPlayerIcon(char icon)\n",
    "    }\n",
    "         \n",
    "    class Grid\n",
    "    {\n",
    "        # Players players\n",
    "        # char[][] grid\n",
    "        \n",
    "        \n",
    "    }\n",
    "    \n",
    "    class GameStatus\n",
    "    \n",
    "    Players -> Grid : ref\n",
    "    Players -> GameStatus : ref\n",
    "    Grid -> GameStatus : ref\n",
    "\n",
    "@enduml"
   ]
  },
  {
   "cell_type": "code",
   "execution_count": null,
   "metadata": {},
   "outputs": [],
   "source": []
  }
 ],
 "metadata": {
  "kernelspec": {
   "display_name": "Python 3",
   "language": "python",
   "name": "python3"
  },
  "language_info": {
   "codemirror_mode": {
    "name": "ipython",
    "version": 3
   },
   "file_extension": ".py",
   "mimetype": "text/x-python",
   "name": "python",
   "nbconvert_exporter": "python",
   "pygments_lexer": "ipython3",
   "version": "3.7.9"
  }
 },
 "nbformat": 4,
 "nbformat_minor": 4
}
