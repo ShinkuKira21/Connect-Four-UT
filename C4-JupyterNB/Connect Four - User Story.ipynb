{
 "cells": [
  {
   "cell_type": "markdown",
   "metadata": {},
   "source": [
    "**Note:** Priority is measured from 0 being first priority.<br><br>\n",
    "\n",
    "| [Title:] [Priority:] [Estimate:] |\n",
    "|-|\n",
    "| **User Story:**<br>As a [description of user],<br>I want [functionality]<br>so that [benefit]. |\n",
    "| **Acceptance Criteria:**<br>*Given* [how things begin]<br>*When* [action taken]<br>*Then* [outcome of taking action] |"
   ]
  },
  {
   "cell_type": "markdown",
   "metadata": {},
   "source": [
    "| [Title: *Player*] [Priority: *0*] [Estimate: *Play the Game*] |\n",
    "|-|\n",
    "| **User Story:**<br><br>As a player, <br>they can set names/icons and play the game <br>so that the game can determine the winner. |\n",
    "| **Acceptance Criteria:**<br><br>*Given* a grid with empty slots. <br>*When* a player move, their icon is shown in the given slot. <br>*Then* if a player has a four in a row, they win. <br>If a player blocks a move then the dominating pieces in the row will disappear. <br>If all slots are full and no winner, then draw. |\n",
    "\n",
    "| [Title: *Players Class*] [Priority: *2*] [Estimate: *Length of Game*] |\n",
    "|-|\n",
    "| ***User Story:***<br>As a Players class, <br>it stores player names and icons<br>so that the game can communicate to the users. |\n",
    "| ***Acceptance Criteria:*** <br><br>**Given** user input from the player<br>**When** the game loads<br>**Then** the user can interact with the<br>Grid class to start playing the game. |\n",
    "\n",
    "| [Title: *GameStatus Class*] [Priority: *1*] [Estimate: *Length of Game*] |\n",
    "|-|\n",
    "| ***User Story:***<br>As a GameStatus class, <br>it controls the status of the game<br>so the game continues or ends appropriately. |\n",
    "| ***Acceptance Criteria:*** <br><br>**Given** the Grid class<br>**When** the grid has been updated<br>**Then** inform the players if there<br>is a winenr or not, and who it might be. |\n",
    "\n",
    "| [Title: *Grid Class*] [Priority: *3*] [Estimate: *Length of Game*] |\n",
    "|-|\n",
    "| ***User Story:***<br>As a Grid class, <br>it creates a grid layout and displays the grid to the players<br>so the players can see what moves the other player made. |\n",
    "| ***Acceptance Criteria:*** <br><br>**Given** player icons and player moves<br>**When** player sets up icons and makes a move<br>**Then** grid will store grid with the players <br>icons where they moved. |"
   ]
  }
 ],
 "metadata": {
  "kernelspec": {
   "display_name": "Python 3",
   "language": "python",
   "name": "python3"
  },
  "language_info": {
   "codemirror_mode": {
    "name": "ipython",
    "version": 3
   },
   "file_extension": ".py",
   "mimetype": "text/x-python",
   "name": "python",
   "nbconvert_exporter": "python",
   "pygments_lexer": "ipython3",
   "version": "3.7.9"
  }
 },
 "nbformat": 4,
 "nbformat_minor": 4
}
